{
 "cells": [
  {
   "cell_type": "code",
   "execution_count": 1,
   "id": "f318f473",
   "metadata": {
    "tags": []
   },
   "outputs": [],
   "source": [
    "import pandas as pd\n",
    "import numpy as np\n",
    "import matplotlib.pyplot as plt\n",
    "import seaborn as sns"
   ]
  },
  {
   "cell_type": "markdown",
   "id": "6ef29f61",
   "metadata": {},
   "source": [
    "## Get data"
   ]
  },
  {
   "cell_type": "code",
   "execution_count": 2,
   "id": "8a2aac7b",
   "metadata": {
    "tags": []
   },
   "outputs": [],
   "source": [
    "startlist = pd.read_csv(\"../data/vasaloppet_2023_startlist.csv\")\n",
    "results = pd.read_csv(\"../data/vasaloppet_2023.csv\")"
   ]
  },
  {
   "cell_type": "code",
   "execution_count": 3,
   "id": "e1d89b2c",
   "metadata": {
    "tags": []
   },
   "outputs": [],
   "source": [
    "df = pd.merge(startlist, results, left_on=[\"Name\", \"Age class\"], right_on=[\"Name\", \"Age class\"], how=\"right\")"
   ]
  },
  {
   "cell_type": "code",
   "execution_count": 4,
   "id": "96fb36ba",
   "metadata": {
    "tags": []
   },
   "outputs": [
    {
     "data": {
      "text/html": [
       "<div>\n",
       "<style scoped>\n",
       "    .dataframe tbody tr th:only-of-type {\n",
       "        vertical-align: middle;\n",
       "    }\n",
       "\n",
       "    .dataframe tbody tr th {\n",
       "        vertical-align: top;\n",
       "    }\n",
       "\n",
       "    .dataframe thead th {\n",
       "        text-align: right;\n",
       "    }\n",
       "</style>\n",
       "<table border=\"1\" class=\"dataframe\">\n",
       "  <thead>\n",
       "    <tr style=\"text-align: right;\">\n",
       "      <th></th>\n",
       "      <th>Name</th>\n",
       "      <th>Age class</th>\n",
       "      <th>Start group</th>\n",
       "      <th>Team_x</th>\n",
       "      <th>Team_y</th>\n",
       "      <th>Place (gender)</th>\n",
       "      <th>Time</th>\n",
       "    </tr>\n",
       "  </thead>\n",
       "  <tbody>\n",
       "    <tr>\n",
       "      <th>0</th>\n",
       "      <td>Persson, Emil (SWE)</td>\n",
       "      <td>H21</td>\n",
       "      <td>VL0</td>\n",
       "      <td>Östersunds SK</td>\n",
       "      <td>Lager 157 Ski Team</td>\n",
       "      <td>1</td>\n",
       "      <td>03:37:43</td>\n",
       "    </tr>\n",
       "    <tr>\n",
       "      <th>1</th>\n",
       "      <td>Fleten, Emilie (NOR)</td>\n",
       "      <td>D21</td>\n",
       "      <td>VL0</td>\n",
       "      <td>&lt;span class=\"text-muted\"&gt;–&lt;/span&gt;</td>\n",
       "      <td>Team Ramudden</td>\n",
       "      <td>1</td>\n",
       "      <td>04:04:08</td>\n",
       "    </tr>\n",
       "    <tr>\n",
       "      <th>2</th>\n",
       "      <td>Nygaard, Andreas (NOR)</td>\n",
       "      <td>H21</td>\n",
       "      <td>VL0</td>\n",
       "      <td>&lt;span class=\"text-muted\"&gt;–&lt;/span&gt;</td>\n",
       "      <td>Team Ragde Charge</td>\n",
       "      <td>2</td>\n",
       "      <td>03:37:43</td>\n",
       "    </tr>\n",
       "    <tr>\n",
       "      <th>3</th>\n",
       "      <td>Öyre Slind, Silje (NOR)</td>\n",
       "      <td>D35</td>\n",
       "      <td>VL0</td>\n",
       "      <td>&lt;span class=\"text-muted\"&gt;–&lt;/span&gt;</td>\n",
       "      <td>Team Aker Daehlie</td>\n",
       "      <td>2</td>\n",
       "      <td>04:06:41</td>\n",
       "    </tr>\n",
       "    <tr>\n",
       "      <th>4</th>\n",
       "      <td>Stadaas, Kasper (NOR)</td>\n",
       "      <td>H21</td>\n",
       "      <td>VL0</td>\n",
       "      <td>&lt;span class=\"text-muted\"&gt;–&lt;/span&gt;</td>\n",
       "      <td>Team Ragde Charge</td>\n",
       "      <td>3</td>\n",
       "      <td>03:37:44</td>\n",
       "    </tr>\n",
       "  </tbody>\n",
       "</table>\n",
       "</div>"
      ],
      "text/plain": [
       "                      Name Age class Start group  \\\n",
       "0      Persson, Emil (SWE)       H21         VL0   \n",
       "1     Fleten, Emilie (NOR)       D21         VL0   \n",
       "2   Nygaard, Andreas (NOR)       H21         VL0   \n",
       "3  Öyre Slind, Silje (NOR)       D35         VL0   \n",
       "4    Stadaas, Kasper (NOR)       H21         VL0   \n",
       "\n",
       "                              Team_x              Team_y  Place (gender)  \\\n",
       "0                      Östersunds SK  Lager 157 Ski Team               1   \n",
       "1  <span class=\"text-muted\">–</span>       Team Ramudden               1   \n",
       "2  <span class=\"text-muted\">–</span>   Team Ragde Charge               2   \n",
       "3  <span class=\"text-muted\">–</span>   Team Aker Daehlie               2   \n",
       "4  <span class=\"text-muted\">–</span>   Team Ragde Charge               3   \n",
       "\n",
       "       Time  \n",
       "0  03:37:43  \n",
       "1  04:04:08  \n",
       "2  03:37:43  \n",
       "3  04:06:41  \n",
       "4  03:37:44  "
      ]
     },
     "execution_count": 4,
     "metadata": {},
     "output_type": "execute_result"
    }
   ],
   "source": [
    "df.head()"
   ]
  },
  {
   "cell_type": "code",
   "execution_count": 5,
   "id": "c8fa2e4d",
   "metadata": {
    "tags": []
   },
   "outputs": [
    {
     "data": {
      "text/html": [
       "<div>\n",
       "<style scoped>\n",
       "    .dataframe tbody tr th:only-of-type {\n",
       "        vertical-align: middle;\n",
       "    }\n",
       "\n",
       "    .dataframe tbody tr th {\n",
       "        vertical-align: top;\n",
       "    }\n",
       "\n",
       "    .dataframe thead th {\n",
       "        text-align: right;\n",
       "    }\n",
       "</style>\n",
       "<table border=\"1\" class=\"dataframe\">\n",
       "  <thead>\n",
       "    <tr style=\"text-align: right;\">\n",
       "      <th></th>\n",
       "      <th>Name</th>\n",
       "      <th>Age class</th>\n",
       "      <th>Start group</th>\n",
       "      <th>Team_x</th>\n",
       "      <th>Team_y</th>\n",
       "      <th>Place (gender)</th>\n",
       "      <th>Time</th>\n",
       "    </tr>\n",
       "  </thead>\n",
       "  <tbody>\n",
       "    <tr>\n",
       "      <th>26</th>\n",
       "      <td>Johansson, Marcus (SWE)</td>\n",
       "      <td>H21</td>\n",
       "      <td>VL8</td>\n",
       "      <td>AXA SC</td>\n",
       "      <td>Lager 157 Ski Team</td>\n",
       "      <td>14</td>\n",
       "      <td>03:40:29</td>\n",
       "    </tr>\n",
       "    <tr>\n",
       "      <th>27</th>\n",
       "      <td>Johansson, Marcus (SWE)</td>\n",
       "      <td>H21</td>\n",
       "      <td>VL9</td>\n",
       "      <td>Hammerdals IF</td>\n",
       "      <td>Lager 157 Ski Team</td>\n",
       "      <td>14</td>\n",
       "      <td>03:40:29</td>\n",
       "    </tr>\n",
       "    <tr>\n",
       "      <th>28</th>\n",
       "      <td>Johansson, Marcus (SWE)</td>\n",
       "      <td>H21</td>\n",
       "      <td>VL0</td>\n",
       "      <td>Ulricehamns SK</td>\n",
       "      <td>Lager 157 Ski Team</td>\n",
       "      <td>14</td>\n",
       "      <td>03:40:29</td>\n",
       "    </tr>\n",
       "    <tr>\n",
       "      <th>29</th>\n",
       "      <td>Johansson, Marcus (SWE)</td>\n",
       "      <td>H21</td>\n",
       "      <td>VL2</td>\n",
       "      <td>Träningskonsulten SC</td>\n",
       "      <td>Lager 157 Ski Team</td>\n",
       "      <td>14</td>\n",
       "      <td>03:40:29</td>\n",
       "    </tr>\n",
       "    <tr>\n",
       "      <th>39</th>\n",
       "      <td>Eriksson, Gustav (SWE)</td>\n",
       "      <td>H21</td>\n",
       "      <td>VL4</td>\n",
       "      <td>Bålsta SK</td>\n",
       "      <td>IFK Mora SK</td>\n",
       "      <td>19</td>\n",
       "      <td>03:41:18</td>\n",
       "    </tr>\n",
       "    <tr>\n",
       "      <th>...</th>\n",
       "      <td>...</td>\n",
       "      <td>...</td>\n",
       "      <td>...</td>\n",
       "      <td>...</td>\n",
       "      <td>...</td>\n",
       "      <td>...</td>\n",
       "      <td>...</td>\n",
       "    </tr>\n",
       "    <tr>\n",
       "      <th>12662</th>\n",
       "      <td>Johansson, Anton (SWE)</td>\n",
       "      <td>H21</td>\n",
       "      <td>VL10</td>\n",
       "      <td>AXA SC</td>\n",
       "      <td>AXA SC</td>\n",
       "      <td>9929</td>\n",
       "      <td>12:00:35</td>\n",
       "    </tr>\n",
       "    <tr>\n",
       "      <th>12663</th>\n",
       "      <td>Johansson, Anton (SWE)</td>\n",
       "      <td>H21</td>\n",
       "      <td>VL4</td>\n",
       "      <td>AXA SC</td>\n",
       "      <td>AXA SC</td>\n",
       "      <td>9929</td>\n",
       "      <td>12:00:35</td>\n",
       "    </tr>\n",
       "    <tr>\n",
       "      <th>12699</th>\n",
       "      <td>Persson, Lucas (SWE)</td>\n",
       "      <td>H21</td>\n",
       "      <td>VL10</td>\n",
       "      <td>AXA SC</td>\n",
       "      <td>AXA SC</td>\n",
       "      <td>9965</td>\n",
       "      <td>12:05:47</td>\n",
       "    </tr>\n",
       "    <tr>\n",
       "      <th>12700</th>\n",
       "      <td>Persson, Lucas (SWE)</td>\n",
       "      <td>H21</td>\n",
       "      <td>VL9</td>\n",
       "      <td>IKJ Haninge</td>\n",
       "      <td>AXA SC</td>\n",
       "      <td>9965</td>\n",
       "      <td>12:05:47</td>\n",
       "    </tr>\n",
       "    <tr>\n",
       "      <th>12701</th>\n",
       "      <td>Persson, Lucas (SWE)</td>\n",
       "      <td>H21</td>\n",
       "      <td>VL10</td>\n",
       "      <td>AXA SC</td>\n",
       "      <td>AXA SC</td>\n",
       "      <td>9965</td>\n",
       "      <td>12:05:47</td>\n",
       "    </tr>\n",
       "  </tbody>\n",
       "</table>\n",
       "<p>1122 rows × 7 columns</p>\n",
       "</div>"
      ],
      "text/plain": [
       "                          Name Age class Start group                Team_x  \\\n",
       "26     Johansson, Marcus (SWE)       H21         VL8                AXA SC   \n",
       "27     Johansson, Marcus (SWE)       H21         VL9         Hammerdals IF   \n",
       "28     Johansson, Marcus (SWE)       H21         VL0        Ulricehamns SK   \n",
       "29     Johansson, Marcus (SWE)       H21         VL2  Träningskonsulten SC   \n",
       "39      Eriksson, Gustav (SWE)       H21         VL4             Bålsta SK   \n",
       "...                        ...       ...         ...                   ...   \n",
       "12662   Johansson, Anton (SWE)       H21        VL10                AXA SC   \n",
       "12663   Johansson, Anton (SWE)       H21         VL4                AXA SC   \n",
       "12699     Persson, Lucas (SWE)       H21        VL10                AXA SC   \n",
       "12700     Persson, Lucas (SWE)       H21         VL9           IKJ Haninge   \n",
       "12701     Persson, Lucas (SWE)       H21        VL10                AXA SC   \n",
       "\n",
       "                   Team_y  Place (gender)      Time  \n",
       "26     Lager 157 Ski Team              14  03:40:29  \n",
       "27     Lager 157 Ski Team              14  03:40:29  \n",
       "28     Lager 157 Ski Team              14  03:40:29  \n",
       "29     Lager 157 Ski Team              14  03:40:29  \n",
       "39            IFK Mora SK              19  03:41:18  \n",
       "...                   ...             ...       ...  \n",
       "12662              AXA SC            9929  12:00:35  \n",
       "12663              AXA SC            9929  12:00:35  \n",
       "12699              AXA SC            9965  12:05:47  \n",
       "12700              AXA SC            9965  12:05:47  \n",
       "12701              AXA SC            9965  12:05:47  \n",
       "\n",
       "[1122 rows x 7 columns]"
      ]
     },
     "execution_count": 5,
     "metadata": {},
     "output_type": "execute_result"
    }
   ],
   "source": [
    "duplicates = df.duplicated(subset=[\"Name\", \"Place (gender)\", \"Time\"], keep=False)\n",
    "df.loc[duplicates]\n",
    "# Due to changing start group and team (multiple entries in start list - one per team?)"
   ]
  },
  {
   "cell_type": "code",
   "execution_count": 6,
   "id": "7364d981-81a6-4f93-8063-9a4405e4ad7d",
   "metadata": {
    "tags": []
   },
   "outputs": [],
   "source": [
    "#df.drop_duplicates(subset=[\"Name\", \"Age class\", \"Place (gender)\", \"Time\"], inplace=True)\n",
    "\n",
    "# I don't care about the team really\n",
    "# Order by start group and keep first entry (best/latest start group)\n",
    "df = df.sort_values(by=\"Start group\").drop_duplicates(subset=[\"Name\", \"Place (gender)\", \"Time\"]).drop([\"Team_x\", \"Team_y\"], axis=1)"
   ]
  },
  {
   "cell_type": "code",
   "execution_count": 7,
   "id": "bac885eb",
   "metadata": {
    "tags": []
   },
   "outputs": [
    {
     "data": {
      "text/plain": [
       "(12075, 5)"
      ]
     },
     "execution_count": 7,
     "metadata": {},
     "output_type": "execute_result"
    }
   ],
   "source": [
    "df.shape\n",
    "# Seems about right! "
   ]
  },
  {
   "cell_type": "markdown",
   "id": "b08a9f8e",
   "metadata": {},
   "source": [
    "## Data cleaning"
   ]
  },
  {
   "cell_type": "code",
   "execution_count": 8,
   "id": "9363dbea",
   "metadata": {
    "tags": []
   },
   "outputs": [
    {
     "data": {
      "text/html": [
       "<div>\n",
       "<style scoped>\n",
       "    .dataframe tbody tr th:only-of-type {\n",
       "        vertical-align: middle;\n",
       "    }\n",
       "\n",
       "    .dataframe tbody tr th {\n",
       "        vertical-align: top;\n",
       "    }\n",
       "\n",
       "    .dataframe thead th {\n",
       "        text-align: right;\n",
       "    }\n",
       "</style>\n",
       "<table border=\"1\" class=\"dataframe\">\n",
       "  <thead>\n",
       "    <tr style=\"text-align: right;\">\n",
       "      <th></th>\n",
       "      <th>Name</th>\n",
       "      <th>Age class</th>\n",
       "      <th>Start group</th>\n",
       "      <th>Place (gender)</th>\n",
       "      <th>Time</th>\n",
       "      <th>hours</th>\n",
       "      <th>minutes</th>\n",
       "      <th>seconds</th>\n",
       "    </tr>\n",
       "  </thead>\n",
       "  <tbody>\n",
       "    <tr>\n",
       "      <th>0</th>\n",
       "      <td>Persson, Emil (SWE)</td>\n",
       "      <td>H21</td>\n",
       "      <td>VL0</td>\n",
       "      <td>1</td>\n",
       "      <td>03:37:43</td>\n",
       "      <td>03</td>\n",
       "      <td>37</td>\n",
       "      <td>43</td>\n",
       "    </tr>\n",
       "    <tr>\n",
       "      <th>330</th>\n",
       "      <td>Tallbom, Patrik (SWE)</td>\n",
       "      <td>H21</td>\n",
       "      <td>VL0</td>\n",
       "      <td>160</td>\n",
       "      <td>04:07:09</td>\n",
       "      <td>04</td>\n",
       "      <td>07</td>\n",
       "      <td>09</td>\n",
       "    </tr>\n",
       "    <tr>\n",
       "      <th>328</th>\n",
       "      <td>Wanvik, Kristian (NOR)</td>\n",
       "      <td>H40</td>\n",
       "      <td>VL0</td>\n",
       "      <td>159</td>\n",
       "      <td>04:06:50</td>\n",
       "      <td>04</td>\n",
       "      <td>06</td>\n",
       "      <td>50</td>\n",
       "    </tr>\n",
       "    <tr>\n",
       "      <th>326</th>\n",
       "      <td>Liukkonen, Kalle (FIN)</td>\n",
       "      <td>H21</td>\n",
       "      <td>VL0</td>\n",
       "      <td>158</td>\n",
       "      <td>04:06:49</td>\n",
       "      <td>04</td>\n",
       "      <td>06</td>\n",
       "      <td>49</td>\n",
       "    </tr>\n",
       "    <tr>\n",
       "      <th>324</th>\n",
       "      <td>Heir, Åsmund (NOR)</td>\n",
       "      <td>H21</td>\n",
       "      <td>VL0</td>\n",
       "      <td>157</td>\n",
       "      <td>04:06:39</td>\n",
       "      <td>04</td>\n",
       "      <td>06</td>\n",
       "      <td>39</td>\n",
       "    </tr>\n",
       "  </tbody>\n",
       "</table>\n",
       "</div>"
      ],
      "text/plain": [
       "                       Name Age class Start group  Place (gender)      Time  \\\n",
       "0       Persson, Emil (SWE)       H21         VL0               1  03:37:43   \n",
       "330   Tallbom, Patrik (SWE)       H21         VL0             160  04:07:09   \n",
       "328  Wanvik, Kristian (NOR)       H40         VL0             159  04:06:50   \n",
       "326  Liukkonen, Kalle (FIN)       H21         VL0             158  04:06:49   \n",
       "324      Heir, Åsmund (NOR)       H21         VL0             157  04:06:39   \n",
       "\n",
       "    hours minutes seconds  \n",
       "0      03      37      43  \n",
       "330    04      07      09  \n",
       "328    04      06      50  \n",
       "326    04      06      49  \n",
       "324    04      06      39  "
      ]
     },
     "execution_count": 8,
     "metadata": {},
     "output_type": "execute_result"
    }
   ],
   "source": [
    "df[[\"hours\", \"minutes\", \"seconds\"]] = df.Time.str.split(\":\", expand=True)\n",
    "df.head()"
   ]
  },
  {
   "cell_type": "code",
   "execution_count": 9,
   "id": "ac85d109",
   "metadata": {
    "tags": []
   },
   "outputs": [
    {
     "data": {
      "text/html": [
       "<div>\n",
       "<style scoped>\n",
       "    .dataframe tbody tr th:only-of-type {\n",
       "        vertical-align: middle;\n",
       "    }\n",
       "\n",
       "    .dataframe tbody tr th {\n",
       "        vertical-align: top;\n",
       "    }\n",
       "\n",
       "    .dataframe thead th {\n",
       "        text-align: right;\n",
       "    }\n",
       "</style>\n",
       "<table border=\"1\" class=\"dataframe\">\n",
       "  <thead>\n",
       "    <tr style=\"text-align: right;\">\n",
       "      <th></th>\n",
       "      <th>Name</th>\n",
       "      <th>Age class</th>\n",
       "      <th>Start group</th>\n",
       "      <th>Place (gender)</th>\n",
       "      <th>Time</th>\n",
       "      <th>hours</th>\n",
       "      <th>minutes</th>\n",
       "      <th>seconds</th>\n",
       "      <th>time_hours</th>\n",
       "    </tr>\n",
       "  </thead>\n",
       "  <tbody>\n",
       "    <tr>\n",
       "      <th>0</th>\n",
       "      <td>Persson, Emil (SWE)</td>\n",
       "      <td>H21</td>\n",
       "      <td>VL0</td>\n",
       "      <td>1</td>\n",
       "      <td>03:37:43</td>\n",
       "      <td>03</td>\n",
       "      <td>37</td>\n",
       "      <td>43</td>\n",
       "      <td>3.628611</td>\n",
       "    </tr>\n",
       "    <tr>\n",
       "      <th>330</th>\n",
       "      <td>Tallbom, Patrik (SWE)</td>\n",
       "      <td>H21</td>\n",
       "      <td>VL0</td>\n",
       "      <td>160</td>\n",
       "      <td>04:07:09</td>\n",
       "      <td>04</td>\n",
       "      <td>07</td>\n",
       "      <td>09</td>\n",
       "      <td>4.119167</td>\n",
       "    </tr>\n",
       "    <tr>\n",
       "      <th>328</th>\n",
       "      <td>Wanvik, Kristian (NOR)</td>\n",
       "      <td>H40</td>\n",
       "      <td>VL0</td>\n",
       "      <td>159</td>\n",
       "      <td>04:06:50</td>\n",
       "      <td>04</td>\n",
       "      <td>06</td>\n",
       "      <td>50</td>\n",
       "      <td>4.113889</td>\n",
       "    </tr>\n",
       "    <tr>\n",
       "      <th>326</th>\n",
       "      <td>Liukkonen, Kalle (FIN)</td>\n",
       "      <td>H21</td>\n",
       "      <td>VL0</td>\n",
       "      <td>158</td>\n",
       "      <td>04:06:49</td>\n",
       "      <td>04</td>\n",
       "      <td>06</td>\n",
       "      <td>49</td>\n",
       "      <td>4.113611</td>\n",
       "    </tr>\n",
       "    <tr>\n",
       "      <th>324</th>\n",
       "      <td>Heir, Åsmund (NOR)</td>\n",
       "      <td>H21</td>\n",
       "      <td>VL0</td>\n",
       "      <td>157</td>\n",
       "      <td>04:06:39</td>\n",
       "      <td>04</td>\n",
       "      <td>06</td>\n",
       "      <td>39</td>\n",
       "      <td>4.110833</td>\n",
       "    </tr>\n",
       "  </tbody>\n",
       "</table>\n",
       "</div>"
      ],
      "text/plain": [
       "                       Name Age class Start group  Place (gender)      Time  \\\n",
       "0       Persson, Emil (SWE)       H21         VL0               1  03:37:43   \n",
       "330   Tallbom, Patrik (SWE)       H21         VL0             160  04:07:09   \n",
       "328  Wanvik, Kristian (NOR)       H40         VL0             159  04:06:50   \n",
       "326  Liukkonen, Kalle (FIN)       H21         VL0             158  04:06:49   \n",
       "324      Heir, Åsmund (NOR)       H21         VL0             157  04:06:39   \n",
       "\n",
       "    hours minutes seconds  time_hours  \n",
       "0      03      37      43    3.628611  \n",
       "330    04      07      09    4.119167  \n",
       "328    04      06      50    4.113889  \n",
       "326    04      06      49    4.113611  \n",
       "324    04      06      39    4.110833  "
      ]
     },
     "execution_count": 9,
     "metadata": {},
     "output_type": "execute_result"
    }
   ],
   "source": [
    "df[\"time_hours\"] = df[\"hours\"].astype(float) + df[\"minutes\"].astype(float) / 60 + df[\"seconds\"].astype(float) / (60*60)\n",
    "df.head()"
   ]
  },
  {
   "cell_type": "code",
   "execution_count": 10,
   "id": "6ef92b57",
   "metadata": {
    "tags": []
   },
   "outputs": [
    {
     "data": {
      "text/plain": [
       "<seaborn.axisgrid.FacetGrid at 0x103173640>"
      ]
     },
     "execution_count": 10,
     "metadata": {},
     "output_type": "execute_result"
    },
    {
     "data": {
      "image/png": "[encoded data removed]",
      "text/plain": [
       "<Figure size 500x500 with 1 Axes>"
      ]
     },
     "metadata": {},
     "output_type": "display_data"
    }
   ],
   "source": [
    "sns.displot(data=df, x=\"time_hours\")"
   ]
  },
  {
   "cell_type": "code",
   "execution_count": 11,
   "id": "550d3083",
   "metadata": {
    "tags": []
   },
   "outputs": [
    {
     "data": {
      "text/html": [
       "<div>\n",
       "<style scoped>\n",
       "    .dataframe tbody tr th:only-of-type {\n",
       "        vertical-align: middle;\n",
       "    }\n",
       "\n",
       "    .dataframe tbody tr th {\n",
       "        vertical-align: top;\n",
       "    }\n",
       "\n",
       "    .dataframe thead th {\n",
       "        text-align: right;\n",
       "    }\n",
       "</style>\n",
       "<table border=\"1\" class=\"dataframe\">\n",
       "  <thead>\n",
       "    <tr style=\"text-align: right;\">\n",
       "      <th></th>\n",
       "      <th>Name</th>\n",
       "      <th>Age class</th>\n",
       "      <th>Start group</th>\n",
       "      <th>Place (gender)</th>\n",
       "      <th>Time</th>\n",
       "      <th>hours</th>\n",
       "      <th>minutes</th>\n",
       "      <th>seconds</th>\n",
       "      <th>time_hours</th>\n",
       "      <th>gender</th>\n",
       "    </tr>\n",
       "  </thead>\n",
       "  <tbody>\n",
       "    <tr>\n",
       "      <th>10852</th>\n",
       "      <td>Sandström, Niclas (SWE)</td>\n",
       "      <td>H35</td>\n",
       "      <td>VL9</td>\n",
       "      <td>8238</td>\n",
       "      <td>09:51:01</td>\n",
       "      <td>09</td>\n",
       "      <td>51</td>\n",
       "      <td>01</td>\n",
       "      <td>9.850278</td>\n",
       "      <td>H</td>\n",
       "    </tr>\n",
       "    <tr>\n",
       "      <th>417</th>\n",
       "      <td>Abarbanell Österaas, Terese (SWE)</td>\n",
       "      <td>D40</td>\n",
       "      <td>NaN</td>\n",
       "      <td>203</td>\n",
       "      <td>06:22:45</td>\n",
       "      <td>06</td>\n",
       "      <td>22</td>\n",
       "      <td>45</td>\n",
       "      <td>6.379167</td>\n",
       "      <td>D</td>\n",
       "    </tr>\n",
       "    <tr>\n",
       "      <th>4044</th>\n",
       "      <td>Suter, Adrian (SUI)</td>\n",
       "      <td>H50</td>\n",
       "      <td>NaN</td>\n",
       "      <td>1952</td>\n",
       "      <td>05:42:59</td>\n",
       "      <td>05</td>\n",
       "      <td>42</td>\n",
       "      <td>59</td>\n",
       "      <td>5.716389</td>\n",
       "      <td>H</td>\n",
       "    </tr>\n",
       "    <tr>\n",
       "      <th>9465</th>\n",
       "      <td>Holgersson, Per-Arne (SWE)</td>\n",
       "      <td>H45</td>\n",
       "      <td>NaN</td>\n",
       "      <td>6942</td>\n",
       "      <td>08:50:09</td>\n",
       "      <td>08</td>\n",
       "      <td>50</td>\n",
       "      <td>09</td>\n",
       "      <td>8.835833</td>\n",
       "      <td>H</td>\n",
       "    </tr>\n",
       "    <tr>\n",
       "      <th>11074</th>\n",
       "      <td>Divis, Zdenek (CZE)</td>\n",
       "      <td>H70</td>\n",
       "      <td>NaN</td>\n",
       "      <td>8449</td>\n",
       "      <td>10:04:56</td>\n",
       "      <td>10</td>\n",
       "      <td>04</td>\n",
       "      <td>56</td>\n",
       "      <td>10.082222</td>\n",
       "      <td>H</td>\n",
       "    </tr>\n",
       "  </tbody>\n",
       "</table>\n",
       "</div>"
      ],
      "text/plain": [
       "                                    Name Age class Start group  \\\n",
       "10852            Sandström, Niclas (SWE)       H35         VL9   \n",
       "417    Abarbanell Österaas, Terese (SWE)       D40         NaN   \n",
       "4044                 Suter, Adrian (SUI)       H50         NaN   \n",
       "9465          Holgersson, Per-Arne (SWE)       H45         NaN   \n",
       "11074                Divis, Zdenek (CZE)       H70         NaN   \n",
       "\n",
       "       Place (gender)      Time hours minutes seconds  time_hours gender  \n",
       "10852            8238  09:51:01    09      51      01    9.850278      H  \n",
       "417               203  06:22:45    06      22      45    6.379167      D  \n",
       "4044             1952  05:42:59    05      42      59    5.716389      H  \n",
       "9465             6942  08:50:09    08      50      09    8.835833      H  \n",
       "11074            8449  10:04:56    10      04      56   10.082222      H  "
      ]
     },
     "execution_count": 11,
     "metadata": {},
     "output_type": "execute_result"
    }
   ],
   "source": [
    "df[\"gender\"] = df[\"Age class\"].str[0]\n",
    "df.tail()"
   ]
  },
  {
   "cell_type": "code",
   "execution_count": 12,
   "id": "206b97a3",
   "metadata": {
    "tags": []
   },
   "outputs": [
    {
     "data": {
      "text/plain": [
       "<seaborn.axisgrid.FacetGrid at 0x103192770>"
      ]
     },
     "execution_count": 12,
     "metadata": {},
     "output_type": "execute_result"
    },
    {
     "data": {
      "image/png": "[encoded data removed]",
      "text/plain": [
       "<Figure size 1000x500 with 2 Axes>"
      ]
     },
     "metadata": {},
     "output_type": "display_data"
    }
   ],
   "source": [
    "sns.displot(data=df.loc[df.gender != \"<\"], x=\"time_hours\", col=\"gender\")"
   ]
  },
  {
   "cell_type": "code",
   "execution_count": 13,
   "id": "241644c5",
   "metadata": {
    "tags": []
   },
   "outputs": [
    {
     "data": {
      "text/plain": [
       "<seaborn.axisgrid.FacetGrid at 0x16850ca00>"
      ]
     },
     "execution_count": 13,
     "metadata": {},
     "output_type": "execute_result"
    },
    {
     "data": {
      "image/png": "[encoded data removed]",
      "text/plain": [
       "<Figure size 560.75x500 with 1 Axes>"
      ]
     },
     "metadata": {},
     "output_type": "display_data"
    }
   ],
   "source": [
    "sns.displot(data=df.loc[df.gender != \"<\"], x=\"time_hours\", hue=\"gender\", kind=\"ecdf\")"
   ]
  },
  {
   "cell_type": "code",
   "execution_count": 14,
   "id": "928c2d2a",
   "metadata": {
    "tags": []
   },
   "outputs": [
    {
     "data": {
      "text/html": [
       "<div>\n",
       "<style scoped>\n",
       "    .dataframe tbody tr th:only-of-type {\n",
       "        vertical-align: middle;\n",
       "    }\n",
       "\n",
       "    .dataframe tbody tr th {\n",
       "        vertical-align: top;\n",
       "    }\n",
       "\n",
       "    .dataframe thead th {\n",
       "        text-align: right;\n",
       "    }\n",
       "</style>\n",
       "<table border=\"1\" class=\"dataframe\">\n",
       "  <thead>\n",
       "    <tr style=\"text-align: right;\">\n",
       "      <th></th>\n",
       "      <th>Name</th>\n",
       "      <th>Age class</th>\n",
       "      <th>Start group</th>\n",
       "      <th>Place (gender)</th>\n",
       "      <th>Time</th>\n",
       "      <th>hours</th>\n",
       "      <th>minutes</th>\n",
       "      <th>seconds</th>\n",
       "      <th>time_hours</th>\n",
       "      <th>gender</th>\n",
       "      <th>Place (total)</th>\n",
       "    </tr>\n",
       "  </thead>\n",
       "  <tbody>\n",
       "    <tr>\n",
       "      <th>4323</th>\n",
       "      <td>Johnsson, Emma (SWE)</td>\n",
       "      <td>D21</td>\n",
       "      <td>VL10</td>\n",
       "      <td>2083</td>\n",
       "      <td>12:16:56</td>\n",
       "      <td>12</td>\n",
       "      <td>16</td>\n",
       "      <td>56</td>\n",
       "      <td>12.282222</td>\n",
       "      <td>D</td>\n",
       "      <td>12071.0</td>\n",
       "    </tr>\n",
       "    <tr>\n",
       "      <th>12727</th>\n",
       "      <td>Norberg, Lars (SWE)</td>\n",
       "      <td>H50</td>\n",
       "      <td>VL10</td>\n",
       "      <td>9991</td>\n",
       "      <td>12:16:57</td>\n",
       "      <td>12</td>\n",
       "      <td>16</td>\n",
       "      <td>57</td>\n",
       "      <td>12.282500</td>\n",
       "      <td>H</td>\n",
       "      <td>12072.0</td>\n",
       "    </tr>\n",
       "    <tr>\n",
       "      <th>12728</th>\n",
       "      <td>Einarsson, Martin (SWE)</td>\n",
       "      <td>H21</td>\n",
       "      <td>VL10</td>\n",
       "      <td>9992</td>\n",
       "      <td>12:17:42</td>\n",
       "      <td>12</td>\n",
       "      <td>17</td>\n",
       "      <td>42</td>\n",
       "      <td>12.295000</td>\n",
       "      <td>H</td>\n",
       "      <td>12073.0</td>\n",
       "    </tr>\n",
       "    <tr>\n",
       "      <th>12729</th>\n",
       "      <td>Nguyen, Dan (SWE)</td>\n",
       "      <td>H21</td>\n",
       "      <td>VL10</td>\n",
       "      <td>9993</td>\n",
       "      <td>12:17:43</td>\n",
       "      <td>12</td>\n",
       "      <td>17</td>\n",
       "      <td>43</td>\n",
       "      <td>12.295278</td>\n",
       "      <td>H</td>\n",
       "      <td>12075.0</td>\n",
       "    </tr>\n",
       "    <tr>\n",
       "      <th>4325</th>\n",
       "      <td>Tran, Phiphi (SWE)</td>\n",
       "      <td>D21</td>\n",
       "      <td>VL10</td>\n",
       "      <td>2084</td>\n",
       "      <td>12:17:43</td>\n",
       "      <td>12</td>\n",
       "      <td>17</td>\n",
       "      <td>43</td>\n",
       "      <td>12.295278</td>\n",
       "      <td>D</td>\n",
       "      <td>12074.0</td>\n",
       "    </tr>\n",
       "  </tbody>\n",
       "</table>\n",
       "</div>"
      ],
      "text/plain": [
       "                          Name Age class Start group  Place (gender)  \\\n",
       "4323      Johnsson, Emma (SWE)       D21        VL10            2083   \n",
       "12727      Norberg, Lars (SWE)       H50        VL10            9991   \n",
       "12728  Einarsson, Martin (SWE)       H21        VL10            9992   \n",
       "12729        Nguyen, Dan (SWE)       H21        VL10            9993   \n",
       "4325        Tran, Phiphi (SWE)       D21        VL10            2084   \n",
       "\n",
       "           Time hours minutes seconds  time_hours gender  Place (total)  \n",
       "4323   12:16:56    12      16      56   12.282222      D        12071.0  \n",
       "12727  12:16:57    12      16      57   12.282500      H        12072.0  \n",
       "12728  12:17:42    12      17      42   12.295000      H        12073.0  \n",
       "12729  12:17:43    12      17      43   12.295278      H        12075.0  \n",
       "4325   12:17:43    12      17      43   12.295278      D        12074.0  "
      ]
     },
     "execution_count": 14,
     "metadata": {},
     "output_type": "execute_result"
    }
   ],
   "source": [
    "df[\"Place (total)\"] = df[\"time_hours\"].rank(method=\"first\")\n",
    "df.sort_values(\"time_hours\").tail()"
   ]
  },
  {
   "cell_type": "code",
   "execution_count": 15,
   "id": "b96ec8be",
   "metadata": {
    "tags": []
   },
   "outputs": [
    {
     "data": {
      "text/html": [
       "<div>\n",
       "<style scoped>\n",
       "    .dataframe tbody tr th:only-of-type {\n",
       "        vertical-align: middle;\n",
       "    }\n",
       "\n",
       "    .dataframe tbody tr th {\n",
       "        vertical-align: top;\n",
       "    }\n",
       "\n",
       "    .dataframe thead th {\n",
       "        text-align: right;\n",
       "    }\n",
       "</style>\n",
       "<table border=\"1\" class=\"dataframe\">\n",
       "  <thead>\n",
       "    <tr style=\"text-align: right;\">\n",
       "      <th></th>\n",
       "      <th>Name</th>\n",
       "      <th>Age class</th>\n",
       "      <th>Start group</th>\n",
       "      <th>Place (gender)</th>\n",
       "      <th>Time</th>\n",
       "      <th>hours</th>\n",
       "      <th>minutes</th>\n",
       "      <th>seconds</th>\n",
       "      <th>time_hours</th>\n",
       "      <th>gender</th>\n",
       "      <th>Place (total)</th>\n",
       "    </tr>\n",
       "  </thead>\n",
       "  <tbody>\n",
       "    <tr>\n",
       "      <th>7279</th>\n",
       "      <td>Ström, Tobias (SWE)</td>\n",
       "      <td>H35</td>\n",
       "      <td>VL5</td>\n",
       "      <td>4882</td>\n",
       "      <td>07:26:28</td>\n",
       "      <td>07</td>\n",
       "      <td>26</td>\n",
       "      <td>28</td>\n",
       "      <td>7.441111</td>\n",
       "      <td>H</td>\n",
       "      <td>5294.0</td>\n",
       "    </tr>\n",
       "    <tr>\n",
       "      <th>9969</th>\n",
       "      <td>Ström, Philip (SWE)</td>\n",
       "      <td>H35</td>\n",
       "      <td>VL7</td>\n",
       "      <td>7403</td>\n",
       "      <td>09:11:37</td>\n",
       "      <td>09</td>\n",
       "      <td>11</td>\n",
       "      <td>37</td>\n",
       "      <td>9.193611</td>\n",
       "      <td>H</td>\n",
       "      <td>8402.0</td>\n",
       "    </tr>\n",
       "    <tr>\n",
       "      <th>9010</th>\n",
       "      <td>Nåbo, Joel (SWE)</td>\n",
       "      <td>H21</td>\n",
       "      <td>VL7</td>\n",
       "      <td>6509</td>\n",
       "      <td>08:31:30</td>\n",
       "      <td>08</td>\n",
       "      <td>31</td>\n",
       "      <td>30</td>\n",
       "      <td>8.525000</td>\n",
       "      <td>H</td>\n",
       "      <td>7264.0</td>\n",
       "    </tr>\n",
       "    <tr>\n",
       "      <th>9047</th>\n",
       "      <td>Pihl, Morgan (SWE)</td>\n",
       "      <td>H35</td>\n",
       "      <td>VL8</td>\n",
       "      <td>6546</td>\n",
       "      <td>08:33:34</td>\n",
       "      <td>08</td>\n",
       "      <td>33</td>\n",
       "      <td>34</td>\n",
       "      <td>8.559444</td>\n",
       "      <td>H</td>\n",
       "      <td>7310.0</td>\n",
       "    </tr>\n",
       "  </tbody>\n",
       "</table>\n",
       "</div>"
      ],
      "text/plain": [
       "                     Name Age class Start group  Place (gender)      Time  \\\n",
       "7279  Ström, Tobias (SWE)       H35         VL5            4882  07:26:28   \n",
       "9969  Ström, Philip (SWE)       H35         VL7            7403  09:11:37   \n",
       "9010     Nåbo, Joel (SWE)       H21         VL7            6509  08:31:30   \n",
       "9047   Pihl, Morgan (SWE)       H35         VL8            6546  08:33:34   \n",
       "\n",
       "     hours minutes seconds  time_hours gender  Place (total)  \n",
       "7279    07      26      28    7.441111      H         5294.0  \n",
       "9969    09      11      37    9.193611      H         8402.0  \n",
       "9010    08      31      30    8.525000      H         7264.0  \n",
       "9047    08      33      34    8.559444      H         7310.0  "
      ]
     },
     "execution_count": 15,
     "metadata": {},
     "output_type": "execute_result"
    }
   ],
   "source": [
    "df.loc[df[\"Name\"].isin([\"Pihl, Morgan (SWE)\", \"Ström, Tobias (SWE)\", \"Ström, Philip (SWE)\", \"Nåbo, Joel (SWE)\"])]\n",
    "# Total place does not match vasaloppet.se perfectly, but very close"
   ]
  },
  {
   "cell_type": "code",
   "execution_count": 16,
   "id": "41461954",
   "metadata": {
    "tags": []
   },
   "outputs": [
    {
     "data": {
      "text/plain": [
       "0.6054658385093168"
      ]
     },
     "execution_count": 16,
     "metadata": {},
     "output_type": "execute_result"
    }
   ],
   "source": [
    "# Percentile Morgan\n",
    "(df[\"time_hours\"] < 8.56).mean()"
   ]
  },
  {
   "cell_type": "code",
   "execution_count": 17,
   "id": "0d6ebf83",
   "metadata": {
    "tags": []
   },
   "outputs": [
    {
     "data": {
      "text/plain": [
       "0.6552931759055434"
      ]
     },
     "execution_count": 17,
     "metadata": {},
     "output_type": "execute_result"
    }
   ],
   "source": [
    "# Percentile men Morgan\n",
    "6549 / 9994"
   ]
  },
  {
   "cell_type": "code",
   "execution_count": 18,
   "id": "186ba46c",
   "metadata": {
    "tags": []
   },
   "outputs": [
    {
     "data": {
      "text/plain": [
       "0.605398244742507"
      ]
     },
     "execution_count": 18,
     "metadata": {},
     "output_type": "execute_result"
    }
   ],
   "source": [
    "# Percentile all Morgan\n",
    "7312 / (9994 + 2084)"
   ]
  },
  {
   "cell_type": "markdown",
   "id": "94458191",
   "metadata": {},
   "source": [
    "## Analysis by start group"
   ]
  },
  {
   "cell_type": "code",
   "execution_count": 19,
   "id": "980c7e4a",
   "metadata": {
    "tags": []
   },
   "outputs": [],
   "source": [
    "START_GROUPS = [\"VL0\", \"VL1\", \"VL2\", \"VL3\", \"VL4\", \"VL5\", \"VL6\", \"VL7\", \"VL8\", \"VL9\", \"VL10\"]"
   ]
  },
  {
   "cell_type": "code",
   "execution_count": 20,
   "id": "839f8077",
   "metadata": {
    "tags": []
   },
   "outputs": [
    {
     "data": {
      "text/html": [
       "<div>\n",
       "<style scoped>\n",
       "    .dataframe tbody tr th:only-of-type {\n",
       "        vertical-align: middle;\n",
       "    }\n",
       "\n",
       "    .dataframe tbody tr th {\n",
       "        vertical-align: top;\n",
       "    }\n",
       "\n",
       "    .dataframe thead tr th {\n",
       "        text-align: left;\n",
       "    }\n",
       "\n",
       "    .dataframe thead tr:last-of-type th {\n",
       "        text-align: right;\n",
       "    }\n",
       "</style>\n",
       "<table border=\"1\" class=\"dataframe\">\n",
       "  <thead>\n",
       "    <tr>\n",
       "      <th></th>\n",
       "      <th colspan=\"6\" halign=\"left\">time_hours</th>\n",
       "    </tr>\n",
       "    <tr>\n",
       "      <th></th>\n",
       "      <th>count</th>\n",
       "      <th>mean</th>\n",
       "      <th>std</th>\n",
       "      <th>q1</th>\n",
       "      <th>median</th>\n",
       "      <th>q3</th>\n",
       "    </tr>\n",
       "    <tr>\n",
       "      <th>Start group</th>\n",
       "      <th></th>\n",
       "      <th></th>\n",
       "      <th></th>\n",
       "      <th></th>\n",
       "      <th></th>\n",
       "      <th></th>\n",
       "    </tr>\n",
       "  </thead>\n",
       "  <tbody>\n",
       "    <tr>\n",
       "      <th>VL0</th>\n",
       "      <td>341</td>\n",
       "      <td>4.3</td>\n",
       "      <td>0.8</td>\n",
       "      <td>4.0</td>\n",
       "      <td>4.1</td>\n",
       "      <td>4.4</td>\n",
       "    </tr>\n",
       "    <tr>\n",
       "      <th>VL1</th>\n",
       "      <td>437</td>\n",
       "      <td>4.7</td>\n",
       "      <td>0.6</td>\n",
       "      <td>4.5</td>\n",
       "      <td>4.6</td>\n",
       "      <td>4.8</td>\n",
       "    </tr>\n",
       "    <tr>\n",
       "      <th>VL2</th>\n",
       "      <td>640</td>\n",
       "      <td>5.2</td>\n",
       "      <td>0.5</td>\n",
       "      <td>4.9</td>\n",
       "      <td>5.1</td>\n",
       "      <td>5.3</td>\n",
       "    </tr>\n",
       "    <tr>\n",
       "      <th>VL3</th>\n",
       "      <td>931</td>\n",
       "      <td>5.7</td>\n",
       "      <td>0.6</td>\n",
       "      <td>5.4</td>\n",
       "      <td>5.6</td>\n",
       "      <td>5.9</td>\n",
       "    </tr>\n",
       "    <tr>\n",
       "      <th>VL4</th>\n",
       "      <td>1087</td>\n",
       "      <td>6.3</td>\n",
       "      <td>0.6</td>\n",
       "      <td>5.9</td>\n",
       "      <td>6.2</td>\n",
       "      <td>6.5</td>\n",
       "    </tr>\n",
       "    <tr>\n",
       "      <th>VL5</th>\n",
       "      <td>1212</td>\n",
       "      <td>7.0</td>\n",
       "      <td>0.9</td>\n",
       "      <td>6.5</td>\n",
       "      <td>6.8</td>\n",
       "      <td>7.2</td>\n",
       "    </tr>\n",
       "    <tr>\n",
       "      <th>VL6</th>\n",
       "      <td>1177</td>\n",
       "      <td>7.5</td>\n",
       "      <td>0.8</td>\n",
       "      <td>7.0</td>\n",
       "      <td>7.4</td>\n",
       "      <td>7.8</td>\n",
       "    </tr>\n",
       "    <tr>\n",
       "      <th>VL7</th>\n",
       "      <td>1215</td>\n",
       "      <td>8.1</td>\n",
       "      <td>0.8</td>\n",
       "      <td>7.6</td>\n",
       "      <td>8.0</td>\n",
       "      <td>8.5</td>\n",
       "    </tr>\n",
       "    <tr>\n",
       "      <th>VL8</th>\n",
       "      <td>1312</td>\n",
       "      <td>8.9</td>\n",
       "      <td>0.9</td>\n",
       "      <td>8.4</td>\n",
       "      <td>8.9</td>\n",
       "      <td>9.4</td>\n",
       "    </tr>\n",
       "    <tr>\n",
       "      <th>VL9</th>\n",
       "      <td>1163</td>\n",
       "      <td>9.9</td>\n",
       "      <td>1.0</td>\n",
       "      <td>9.2</td>\n",
       "      <td>9.8</td>\n",
       "      <td>10.6</td>\n",
       "    </tr>\n",
       "    <tr>\n",
       "      <th>VL10</th>\n",
       "      <td>2556</td>\n",
       "      <td>10.4</td>\n",
       "      <td>1.3</td>\n",
       "      <td>9.6</td>\n",
       "      <td>10.6</td>\n",
       "      <td>11.4</td>\n",
       "    </tr>\n",
       "  </tbody>\n",
       "</table>\n",
       "</div>"
      ],
      "text/plain": [
       "            time_hours                             \n",
       "                 count  mean  std   q1 median    q3\n",
       "Start group                                        \n",
       "VL0                341   4.3  0.8  4.0    4.1   4.4\n",
       "VL1                437   4.7  0.6  4.5    4.6   4.8\n",
       "VL2                640   5.2  0.5  4.9    5.1   5.3\n",
       "VL3                931   5.7  0.6  5.4    5.6   5.9\n",
       "VL4               1087   6.3  0.6  5.9    6.2   6.5\n",
       "VL5               1212   7.0  0.9  6.5    6.8   7.2\n",
       "VL6               1177   7.5  0.8  7.0    7.4   7.8\n",
       "VL7               1215   8.1  0.8  7.6    8.0   8.5\n",
       "VL8               1312   8.9  0.9  8.4    8.9   9.4\n",
       "VL9               1163   9.9  1.0  9.2    9.8  10.6\n",
       "VL10              2556  10.4  1.3  9.6   10.6  11.4"
      ]
     },
     "execution_count": 20,
     "metadata": {},
     "output_type": "execute_result"
    }
   ],
   "source": [
    "def q1(x):\n",
    "    return x.quantile(0.25)\n",
    "\n",
    "def q3(x):\n",
    "    return x.quantile(0.75)\n",
    "\n",
    "df.groupby(\"Start group\").agg({\"time_hours\": [\"count\", \"mean\", \"std\", q1, \"median\", q3]}).loc[START_GROUPS].round(1)"
   ]
  },
  {
   "cell_type": "code",
   "execution_count": 21,
   "id": "4d91d84e",
   "metadata": {
    "tags": []
   },
   "outputs": [
    {
     "data": {
      "text/plain": [
       "<matplotlib.collections.LineCollection at 0x168644b50>"
      ]
     },
     "execution_count": 21,
     "metadata": {},
     "output_type": "execute_result"
    },
    {
     "data": {
      "image/png": "[encoded data removed]",
      "text/plain": [
       "<Figure size 640x480 with 1 Axes>"
      ]
     },
     "metadata": {},
     "output_type": "display_data"
    }
   ],
   "source": [
    "sns.boxplot(data=df, x=\"Start group\", y=\"time_hours\", order=START_GROUPS)\n",
    "plt.hlines(y=8.56, xmin=-0.5, xmax=10.5, colors=\"blue\")  # Morgan\n",
    "plt.hlines(y=8.53, xmin=-0.5, xmax=10.5, colors=\"red\")  # Joel\n",
    "plt.hlines(y=7.44, xmin=-0.5, xmax=10.5, colors=\"green\")  # Tobias\n",
    "plt.hlines(y=9.19, xmin=-0.5, xmax=10.5, colors=\"orange\")  # Philip"
   ]
  },
  {
   "cell_type": "markdown",
   "id": "663bbf97",
   "metadata": {},
   "source": [
    "## Tolkning\n",
    "\n",
    "* Seedningen är väldigt bra för startled 0-5 (inget överlapp för mittersta 50% i respektive startled)\n",
    "* För startled 5-10 blir separationen mellan leden successivt sämre (stort överlapp mellan 9 och 10 framförallt - medianen för startled 10 är samma som 75 %ilen för startled 9)\n",
    "* Det kan uppstå problem under loppet när åkare hamnar i \"fel\" startled - relativt långsamma åkare som blockerar spår och relativt snabba åkare som tvingas göra många passeringar\n",
    "* Detta problem verkar vara störst för de högre startleden (5-9)\n",
    "* Det går inte att göra mycket åt åkare som inte har åkt några seedningsgrundande lopp - vi vet ingenting om deras förmåga och måste placera dem i startled 10\n",
    "* Det går heller inte att flytta upp åkare som har försämrats under försäsongen (åkte snabbare tidigare år än på seedningslopp under 2023 till exempel)\n",
    "* Ytterligare en begränsning är att seedningen inte sätts individuellt utan utifrån tidsgränser som gäller för alla åkare för varje seedningsgrundande lopp\n",
    "\n",
    "\n",
    "Vad som eventuellt skulle kunna förbättras är att placera relativt långsamma åkare (startled 5 och uppåt) i rätt led baserat på seedningslopp från 2023. Anekdotiskt verkar seedningen från Engelbrektsloppet ha varit sämre än seedningen från Moraloppet till exempel. \n",
    "\n",
    "Hur kan man bättre kalibrera seedningsloppen så att gränsvärdena för de olika startleden blir mer rättvisa och jämförbara?\n",
    "\n",
    "Hur det verkar skötas idag:\n",
    "* Utgå från vinnartiden för att dra gräns för första startledet \n",
    "* Utgå från kunskap om förmåga/meriter hos tätpersonerna för att dra gräns för det första startledet\n",
    "* Sätta tidsgränser med jämna intervall (10, 15, 20 minuter) baserat på kunskap om väder/spårförhållanden (t.ex. om det snöade eller inte)\n",
    "\n",
    "https://www.vasaloppet.se/wp-content/uploads/sites/1/2020/11/seedningslopp_vasaloppet_formular_for_arrangorer_2020.pdf\n",
    "\n",
    "Möjliga förbättringar:\n",
    "* Använda data (startled, sluttid, placering) från tidigare vasalopp för fler än tätpersonerna (VasaID ges vid anmälan till seedningslopp) för att avgöra var tidsgränserna borde vara\n",
    "* Utgå från mediantid (eller kanske Q3) per startledsgrupp för varje lopp för att sätta tidsgränser\n",
    "* Använd Bayes för att uppdatera uppskattad förmåga (hastighet?) efter varje lopp, sätt tidsgränser baserat på gruppering av uppskattad förmåga - fler lopp ger högre säkerhet"
   ]
  },
  {
   "cell_type": "code",
   "execution_count": 22,
   "id": "6d0f5633",
   "metadata": {
    "tags": []
   },
   "outputs": [
    {
     "name": "stdout",
     "output_type": "stream",
     "text": [
      "Tobias VL5: 0.82\n",
      "Tobias VL6: 0.53\n",
      "Joel VL7: 0.75\n",
      "Philip VL7: 0.92\n",
      "Morgan VL8: 0.33\n",
      "Morgan VL9: 0.08\n"
     ]
    }
   ],
   "source": [
    "def percentile_for_group(time_hours: float, group: str) -> float:\n",
    "    return (df.loc[df[\"Start group\"] == group, \"time_hours\"] < time_hours).mean().round(2)\n",
    "\n",
    "print(f\"Tobias VL5: {percentile_for_group(7.44, 'VL5')}\")\n",
    "print(f\"Tobias VL6: {percentile_for_group(7.44, 'VL6')}\")\n",
    "print(f\"Joel VL7: {percentile_for_group(8.53, 'VL7')}\")\n",
    "print(f\"Philip VL7: {percentile_for_group(9.19, 'VL7')}\")\n",
    "print(f\"Morgan VL8: {percentile_for_group(8.56, 'VL8')}\")\n",
    "print(f\"Morgan VL9: {percentile_for_group(8.56, 'VL9')}\")\n"
   ]
  },
  {
   "cell_type": "markdown",
   "id": "aaaaba6f",
   "metadata": {},
   "source": [
    "## Tolkning\n",
    "\n",
    "* Tobias var långsammare än 82% av startled 5 (Vasaloppet 2022)\n",
    "* Tobias var nära medianen av startled 6 (Moraloppet 2023)\n",
    "* Joel var långsammare än 75% av startled 7 (Moraloppet 2023)\n",
    "* Philip var långsammare än 92% av startled 7 (Moraloppet 2023 & Vasaloppet 2022)\n",
    "* Morgan var snabbare än 67% av startled 8 (Vasaloppet 2022)\n",
    "* Morgan var snabbare än 92% av startled 9 (Engelbrektsloppet 2023)\n",
    "\n",
    "\n",
    "Sammanfattningsvis:\n",
    "* Seedningen från Vasaloppet 2022 var optimistisk för Tobias och Philip (mindre träning den här säsongen, så ganska väntat) och korrekt för Morgan (ungefär samma nivå av träning och förberedelse)\n",
    "* Seedningen från Moraloppet 2023 var optimistisk för Joel och Philip och korrekt för Tobias\n",
    "* Seedningen från Engelbrektsloppet 2023 var pessimistisk för Morgan (kan bero delvis på sjukdom i samband med loppet)"
   ]
  },
  {
   "cell_type": "markdown",
   "id": "4009751f",
   "metadata": {},
   "source": [
    "# Nästa steg\n",
    "\n",
    "* Hämta resultat från Vasaloppet 2022\n",
    "    * Gruppera deltagare så att de någorlunda stämmer överens med startled för Vasaloppet 2023?\n",
    "    * Gruppera deltagare baserat på placering?\n",
    "* Hämta resultat från Engelbrektsloppet 2023 och Moraloppet 2023\n",
    "* För båda seedningslopp:\n",
    "    * Länka samman resultat med Vasaloppet 2022\n",
    "    * Visualisera samband mellan resultaten\n",
    "    * Föreslå tidsgränser för startled till Vasaloppet 2023\n",
    "    * Utvärdera seedningen baserat på resultat från Vasaloppet 2023"
   ]
  }
 ],
 "metadata": {
  "kernelspec": {
   "display_name": "Python 3 (ipykernel)",
   "language": "python",
   "name": "python3"
  },
  "language_info": {
   "codemirror_mode": {
    "name": "ipython",
    "version": 3
   },
   "file_extension": ".py",
   "mimetype": "text/x-python",
   "name": "python",
   "nbconvert_exporter": "python",
   "pygments_lexer": "ipython3",
   "version": "3.10.10"
  }
 },
 "nbformat": 4,
 "nbformat_minor": 5
}
