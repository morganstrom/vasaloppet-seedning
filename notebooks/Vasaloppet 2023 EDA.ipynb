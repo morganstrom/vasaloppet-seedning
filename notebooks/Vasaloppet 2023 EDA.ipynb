{
 "cells": [
  {
   "cell_type": "code",
   "execution_count": 26,
   "id": "900ac5d0",
   "metadata": {},
   "outputs": [],
   "source": [
    "import pandas as pd\n",
    "import matplotlib.pyplot as plt\n",
    "import seaborn as sns\n",
    "import numpy as np"
   ]
  },
  {
   "cell_type": "code",
   "execution_count": 2,
   "id": "866ec695",
   "metadata": {},
   "outputs": [
    {
     "data": {
      "text/html": [
       "<div>\n",
       "<style scoped>\n",
       "    .dataframe tbody tr th:only-of-type {\n",
       "        vertical-align: middle;\n",
       "    }\n",
       "\n",
       "    .dataframe tbody tr th {\n",
       "        vertical-align: top;\n",
       "    }\n",
       "\n",
       "    .dataframe thead th {\n",
       "        text-align: right;\n",
       "    }\n",
       "</style>\n",
       "<table border=\"1\" class=\"dataframe\">\n",
       "  <thead>\n",
       "    <tr style=\"text-align: right;\">\n",
       "      <th></th>\n",
       "      <th>Name</th>\n",
       "      <th>Team</th>\n",
       "      <th>Age class</th>\n",
       "      <th>Place (gender)</th>\n",
       "      <th>Time</th>\n",
       "    </tr>\n",
       "  </thead>\n",
       "  <tbody>\n",
       "    <tr>\n",
       "      <th>0</th>\n",
       "      <td>Persson, Emil (SWE)</td>\n",
       "      <td>Lager 157 Ski Team</td>\n",
       "      <td>H21</td>\n",
       "      <td>1</td>\n",
       "      <td>03:37:43</td>\n",
       "    </tr>\n",
       "    <tr>\n",
       "      <th>1</th>\n",
       "      <td>Fleten, Emilie (NOR)</td>\n",
       "      <td>Team Ramudden</td>\n",
       "      <td>D21</td>\n",
       "      <td>1</td>\n",
       "      <td>04:04:08</td>\n",
       "    </tr>\n",
       "    <tr>\n",
       "      <th>2</th>\n",
       "      <td>Nygaard, Andreas (NOR)</td>\n",
       "      <td>Team Ragde Charge</td>\n",
       "      <td>H21</td>\n",
       "      <td>2</td>\n",
       "      <td>03:37:43</td>\n",
       "    </tr>\n",
       "    <tr>\n",
       "      <th>3</th>\n",
       "      <td>Öyre Slind, Silje (NOR)</td>\n",
       "      <td>Team Aker Daehlie</td>\n",
       "      <td>D35</td>\n",
       "      <td>2</td>\n",
       "      <td>04:06:41</td>\n",
       "    </tr>\n",
       "    <tr>\n",
       "      <th>4</th>\n",
       "      <td>Stadaas, Kasper (NOR)</td>\n",
       "      <td>Team Ragde Charge</td>\n",
       "      <td>H21</td>\n",
       "      <td>3</td>\n",
       "      <td>03:37:44</td>\n",
       "    </tr>\n",
       "  </tbody>\n",
       "</table>\n",
       "</div>"
      ],
      "text/plain": [
       "                      Name                Team Age class  Place (gender)  \\\n",
       "0      Persson, Emil (SWE)  Lager 157 Ski Team       H21               1   \n",
       "1     Fleten, Emilie (NOR)       Team Ramudden       D21               1   \n",
       "2   Nygaard, Andreas (NOR)   Team Ragde Charge       H21               2   \n",
       "3  Öyre Slind, Silje (NOR)   Team Aker Daehlie       D35               2   \n",
       "4    Stadaas, Kasper (NOR)   Team Ragde Charge       H21               3   \n",
       "\n",
       "       Time  \n",
       "0  03:37:43  \n",
       "1  04:04:08  \n",
       "2  03:37:43  \n",
       "3  04:06:41  \n",
       "4  03:37:44  "
      ]
     },
     "execution_count": 2,
     "metadata": {},
     "output_type": "execute_result"
    }
   ],
   "source": [
    "vasaloppet = pd.read_csv(\"../data/vasaloppet_2023.csv\")\n",
    "vasaloppet.head()"
   ]
  },
  {
   "cell_type": "code",
   "execution_count": 3,
   "id": "9c78f867",
   "metadata": {},
   "outputs": [],
   "source": [
    "#vasaloppet.Time = pd.to_timedelta(vasaloppet.Time)"
   ]
  },
  {
   "cell_type": "code",
   "execution_count": 4,
   "id": "9363dbea",
   "metadata": {},
   "outputs": [
    {
     "data": {
      "text/html": [
       "<div>\n",
       "<style scoped>\n",
       "    .dataframe tbody tr th:only-of-type {\n",
       "        vertical-align: middle;\n",
       "    }\n",
       "\n",
       "    .dataframe tbody tr th {\n",
       "        vertical-align: top;\n",
       "    }\n",
       "\n",
       "    .dataframe thead th {\n",
       "        text-align: right;\n",
       "    }\n",
       "</style>\n",
       "<table border=\"1\" class=\"dataframe\">\n",
       "  <thead>\n",
       "    <tr style=\"text-align: right;\">\n",
       "      <th></th>\n",
       "      <th>Name</th>\n",
       "      <th>Team</th>\n",
       "      <th>Age class</th>\n",
       "      <th>Place (gender)</th>\n",
       "      <th>Time</th>\n",
       "      <th>hours</th>\n",
       "      <th>minutes</th>\n",
       "      <th>seconds</th>\n",
       "    </tr>\n",
       "  </thead>\n",
       "  <tbody>\n",
       "    <tr>\n",
       "      <th>0</th>\n",
       "      <td>Persson, Emil (SWE)</td>\n",
       "      <td>Lager 157 Ski Team</td>\n",
       "      <td>H21</td>\n",
       "      <td>1</td>\n",
       "      <td>03:37:43</td>\n",
       "      <td>03</td>\n",
       "      <td>37</td>\n",
       "      <td>43</td>\n",
       "    </tr>\n",
       "    <tr>\n",
       "      <th>1</th>\n",
       "      <td>Fleten, Emilie (NOR)</td>\n",
       "      <td>Team Ramudden</td>\n",
       "      <td>D21</td>\n",
       "      <td>1</td>\n",
       "      <td>04:04:08</td>\n",
       "      <td>04</td>\n",
       "      <td>04</td>\n",
       "      <td>08</td>\n",
       "    </tr>\n",
       "    <tr>\n",
       "      <th>2</th>\n",
       "      <td>Nygaard, Andreas (NOR)</td>\n",
       "      <td>Team Ragde Charge</td>\n",
       "      <td>H21</td>\n",
       "      <td>2</td>\n",
       "      <td>03:37:43</td>\n",
       "      <td>03</td>\n",
       "      <td>37</td>\n",
       "      <td>43</td>\n",
       "    </tr>\n",
       "    <tr>\n",
       "      <th>3</th>\n",
       "      <td>Öyre Slind, Silje (NOR)</td>\n",
       "      <td>Team Aker Daehlie</td>\n",
       "      <td>D35</td>\n",
       "      <td>2</td>\n",
       "      <td>04:06:41</td>\n",
       "      <td>04</td>\n",
       "      <td>06</td>\n",
       "      <td>41</td>\n",
       "    </tr>\n",
       "    <tr>\n",
       "      <th>4</th>\n",
       "      <td>Stadaas, Kasper (NOR)</td>\n",
       "      <td>Team Ragde Charge</td>\n",
       "      <td>H21</td>\n",
       "      <td>3</td>\n",
       "      <td>03:37:44</td>\n",
       "      <td>03</td>\n",
       "      <td>37</td>\n",
       "      <td>44</td>\n",
       "    </tr>\n",
       "  </tbody>\n",
       "</table>\n",
       "</div>"
      ],
      "text/plain": [
       "                      Name                Team Age class  Place (gender)  \\\n",
       "0      Persson, Emil (SWE)  Lager 157 Ski Team       H21               1   \n",
       "1     Fleten, Emilie (NOR)       Team Ramudden       D21               1   \n",
       "2   Nygaard, Andreas (NOR)   Team Ragde Charge       H21               2   \n",
       "3  Öyre Slind, Silje (NOR)   Team Aker Daehlie       D35               2   \n",
       "4    Stadaas, Kasper (NOR)   Team Ragde Charge       H21               3   \n",
       "\n",
       "       Time hours minutes seconds  \n",
       "0  03:37:43    03      37      43  \n",
       "1  04:04:08    04      04      08  \n",
       "2  03:37:43    03      37      43  \n",
       "3  04:06:41    04      06      41  \n",
       "4  03:37:44    03      37      44  "
      ]
     },
     "execution_count": 4,
     "metadata": {},
     "output_type": "execute_result"
    }
   ],
   "source": [
    "vasaloppet[[\"hours\", \"minutes\", \"seconds\"]] = vasaloppet.Time.str.split(\":\", expand=True)\n",
    "vasaloppet.head()"
   ]
  },
  {
   "cell_type": "code",
   "execution_count": 5,
   "id": "ac85d109",
   "metadata": {},
   "outputs": [
    {
     "data": {
      "text/html": [
       "<div>\n",
       "<style scoped>\n",
       "    .dataframe tbody tr th:only-of-type {\n",
       "        vertical-align: middle;\n",
       "    }\n",
       "\n",
       "    .dataframe tbody tr th {\n",
       "        vertical-align: top;\n",
       "    }\n",
       "\n",
       "    .dataframe thead th {\n",
       "        text-align: right;\n",
       "    }\n",
       "</style>\n",
       "<table border=\"1\" class=\"dataframe\">\n",
       "  <thead>\n",
       "    <tr style=\"text-align: right;\">\n",
       "      <th></th>\n",
       "      <th>Name</th>\n",
       "      <th>Team</th>\n",
       "      <th>Age class</th>\n",
       "      <th>Place (gender)</th>\n",
       "      <th>Time</th>\n",
       "      <th>hours</th>\n",
       "      <th>minutes</th>\n",
       "      <th>seconds</th>\n",
       "      <th>time_hours</th>\n",
       "    </tr>\n",
       "  </thead>\n",
       "  <tbody>\n",
       "    <tr>\n",
       "      <th>0</th>\n",
       "      <td>Persson, Emil (SWE)</td>\n",
       "      <td>Lager 157 Ski Team</td>\n",
       "      <td>H21</td>\n",
       "      <td>1</td>\n",
       "      <td>03:37:43</td>\n",
       "      <td>03</td>\n",
       "      <td>37</td>\n",
       "      <td>43</td>\n",
       "      <td>3.628611</td>\n",
       "    </tr>\n",
       "    <tr>\n",
       "      <th>1</th>\n",
       "      <td>Fleten, Emilie (NOR)</td>\n",
       "      <td>Team Ramudden</td>\n",
       "      <td>D21</td>\n",
       "      <td>1</td>\n",
       "      <td>04:04:08</td>\n",
       "      <td>04</td>\n",
       "      <td>04</td>\n",
       "      <td>08</td>\n",
       "      <td>4.068889</td>\n",
       "    </tr>\n",
       "    <tr>\n",
       "      <th>2</th>\n",
       "      <td>Nygaard, Andreas (NOR)</td>\n",
       "      <td>Team Ragde Charge</td>\n",
       "      <td>H21</td>\n",
       "      <td>2</td>\n",
       "      <td>03:37:43</td>\n",
       "      <td>03</td>\n",
       "      <td>37</td>\n",
       "      <td>43</td>\n",
       "      <td>3.628611</td>\n",
       "    </tr>\n",
       "    <tr>\n",
       "      <th>3</th>\n",
       "      <td>Öyre Slind, Silje (NOR)</td>\n",
       "      <td>Team Aker Daehlie</td>\n",
       "      <td>D35</td>\n",
       "      <td>2</td>\n",
       "      <td>04:06:41</td>\n",
       "      <td>04</td>\n",
       "      <td>06</td>\n",
       "      <td>41</td>\n",
       "      <td>4.111389</td>\n",
       "    </tr>\n",
       "    <tr>\n",
       "      <th>4</th>\n",
       "      <td>Stadaas, Kasper (NOR)</td>\n",
       "      <td>Team Ragde Charge</td>\n",
       "      <td>H21</td>\n",
       "      <td>3</td>\n",
       "      <td>03:37:44</td>\n",
       "      <td>03</td>\n",
       "      <td>37</td>\n",
       "      <td>44</td>\n",
       "      <td>3.628889</td>\n",
       "    </tr>\n",
       "  </tbody>\n",
       "</table>\n",
       "</div>"
      ],
      "text/plain": [
       "                      Name                Team Age class  Place (gender)  \\\n",
       "0      Persson, Emil (SWE)  Lager 157 Ski Team       H21               1   \n",
       "1     Fleten, Emilie (NOR)       Team Ramudden       D21               1   \n",
       "2   Nygaard, Andreas (NOR)   Team Ragde Charge       H21               2   \n",
       "3  Öyre Slind, Silje (NOR)   Team Aker Daehlie       D35               2   \n",
       "4    Stadaas, Kasper (NOR)   Team Ragde Charge       H21               3   \n",
       "\n",
       "       Time hours minutes seconds  time_hours  \n",
       "0  03:37:43    03      37      43    3.628611  \n",
       "1  04:04:08    04      04      08    4.068889  \n",
       "2  03:37:43    03      37      43    3.628611  \n",
       "3  04:06:41    04      06      41    4.111389  \n",
       "4  03:37:44    03      37      44    3.628889  "
      ]
     },
     "execution_count": 5,
     "metadata": {},
     "output_type": "execute_result"
    }
   ],
   "source": [
    "vasaloppet[\"time_hours\"] = vasaloppet[\"hours\"].astype(float) + vasaloppet[\"minutes\"].astype(float) / 60 + vasaloppet[\"seconds\"].astype(float) / (60*60)\n",
    "vasaloppet.head()"
   ]
  },
  {
   "cell_type": "code",
   "execution_count": 6,
   "id": "6ef92b57",
   "metadata": {},
   "outputs": [
    {
     "data": {
      "text/plain": [
       "<seaborn.axisgrid.FacetGrid at 0x14eb3de10>"
      ]
     },
     "execution_count": 6,
     "metadata": {},
     "output_type": "execute_result"
    },
    {
     "data": {
      "image/png": "[encoded data removed]",
      "text/plain": [
       "<Figure size 500x500 with 1 Axes>"
      ]
     },
     "metadata": {},
     "output_type": "display_data"
    }
   ],
   "source": [
    "sns.displot(data=vasaloppet, x=\"time_hours\")"
   ]
  },
  {
   "cell_type": "code",
   "execution_count": 7,
   "id": "550d3083",
   "metadata": {},
   "outputs": [
    {
     "data": {
      "text/html": [
       "<div>\n",
       "<style scoped>\n",
       "    .dataframe tbody tr th:only-of-type {\n",
       "        vertical-align: middle;\n",
       "    }\n",
       "\n",
       "    .dataframe tbody tr th {\n",
       "        vertical-align: top;\n",
       "    }\n",
       "\n",
       "    .dataframe thead th {\n",
       "        text-align: right;\n",
       "    }\n",
       "</style>\n",
       "<table border=\"1\" class=\"dataframe\">\n",
       "  <thead>\n",
       "    <tr style=\"text-align: right;\">\n",
       "      <th></th>\n",
       "      <th>Name</th>\n",
       "      <th>Team</th>\n",
       "      <th>Age class</th>\n",
       "      <th>Place (gender)</th>\n",
       "      <th>Time</th>\n",
       "      <th>hours</th>\n",
       "      <th>minutes</th>\n",
       "      <th>seconds</th>\n",
       "      <th>time_hours</th>\n",
       "      <th>gender</th>\n",
       "    </tr>\n",
       "  </thead>\n",
       "  <tbody>\n",
       "    <tr>\n",
       "      <th>12073</th>\n",
       "      <td>Irborg, Måns (SWE)</td>\n",
       "      <td>Arboga SK</td>\n",
       "      <td>H21</td>\n",
       "      <td>9992</td>\n",
       "      <td>12:14:04</td>\n",
       "      <td>12</td>\n",
       "      <td>14</td>\n",
       "      <td>04</td>\n",
       "      <td>12.234444</td>\n",
       "      <td>H</td>\n",
       "    </tr>\n",
       "    <tr>\n",
       "      <th>12074</th>\n",
       "      <td>Tuborgh, Kasper (DEN)</td>\n",
       "      <td>&lt;span class=\"text-muted\"&gt;–&lt;/span&gt;</td>\n",
       "      <td>H21</td>\n",
       "      <td>9993</td>\n",
       "      <td>12:14:26</td>\n",
       "      <td>12</td>\n",
       "      <td>14</td>\n",
       "      <td>26</td>\n",
       "      <td>12.240556</td>\n",
       "      <td>H</td>\n",
       "    </tr>\n",
       "    <tr>\n",
       "      <th>12075</th>\n",
       "      <td>Norberg, Lars (SWE)</td>\n",
       "      <td>Matfors SK</td>\n",
       "      <td>H50</td>\n",
       "      <td>9994</td>\n",
       "      <td>12:16:57</td>\n",
       "      <td>12</td>\n",
       "      <td>16</td>\n",
       "      <td>57</td>\n",
       "      <td>12.282500</td>\n",
       "      <td>H</td>\n",
       "    </tr>\n",
       "    <tr>\n",
       "      <th>12076</th>\n",
       "      <td>Einarsson, Martin (SWE)</td>\n",
       "      <td>AXA SC</td>\n",
       "      <td>H21</td>\n",
       "      <td>9995</td>\n",
       "      <td>12:17:42</td>\n",
       "      <td>12</td>\n",
       "      <td>17</td>\n",
       "      <td>42</td>\n",
       "      <td>12.295000</td>\n",
       "      <td>H</td>\n",
       "    </tr>\n",
       "    <tr>\n",
       "      <th>12077</th>\n",
       "      <td>Nguyen, Dan (SWE)</td>\n",
       "      <td>AXA SC</td>\n",
       "      <td>H21</td>\n",
       "      <td>9996</td>\n",
       "      <td>12:17:43</td>\n",
       "      <td>12</td>\n",
       "      <td>17</td>\n",
       "      <td>43</td>\n",
       "      <td>12.295278</td>\n",
       "      <td>H</td>\n",
       "    </tr>\n",
       "  </tbody>\n",
       "</table>\n",
       "</div>"
      ],
      "text/plain": [
       "                          Name                               Team Age class  \\\n",
       "12073       Irborg, Måns (SWE)                          Arboga SK       H21   \n",
       "12074    Tuborgh, Kasper (DEN)  <span class=\"text-muted\">–</span>       H21   \n",
       "12075      Norberg, Lars (SWE)                         Matfors SK       H50   \n",
       "12076  Einarsson, Martin (SWE)                             AXA SC       H21   \n",
       "12077        Nguyen, Dan (SWE)                             AXA SC       H21   \n",
       "\n",
       "       Place (gender)      Time hours minutes seconds  time_hours gender  \n",
       "12073            9992  12:14:04    12      14      04   12.234444      H  \n",
       "12074            9993  12:14:26    12      14      26   12.240556      H  \n",
       "12075            9994  12:16:57    12      16      57   12.282500      H  \n",
       "12076            9995  12:17:42    12      17      42   12.295000      H  \n",
       "12077            9996  12:17:43    12      17      43   12.295278      H  "
      ]
     },
     "execution_count": 7,
     "metadata": {},
     "output_type": "execute_result"
    }
   ],
   "source": [
    "vasaloppet[\"gender\"] = vasaloppet[\"Age class\"].str[0]\n",
    "vasaloppet.tail()"
   ]
  },
  {
   "cell_type": "code",
   "execution_count": 8,
   "id": "206b97a3",
   "metadata": {},
   "outputs": [
    {
     "data": {
      "text/plain": [
       "<seaborn.axisgrid.FacetGrid at 0x1030e7f70>"
      ]
     },
     "execution_count": 8,
     "metadata": {},
     "output_type": "execute_result"
    },
    {
     "data": {
      "image/png": "[encoded data removed]",
      "text/plain": [
       "<Figure size 1000x500 with 2 Axes>"
      ]
     },
     "metadata": {},
     "output_type": "display_data"
    }
   ],
   "source": [
    "sns.displot(data=vasaloppet.loc[vasaloppet.gender != \"<\"], x=\"time_hours\", col=\"gender\")"
   ]
  },
  {
   "cell_type": "code",
   "execution_count": 9,
   "id": "241644c5",
   "metadata": {},
   "outputs": [
    {
     "data": {
      "text/plain": [
       "<seaborn.axisgrid.FacetGrid at 0x14fb0bc70>"
      ]
     },
     "execution_count": 9,
     "metadata": {},
     "output_type": "execute_result"
    },
    {
     "data": {
      "image/png": "[encoded data removed]",
      "text/plain": [
       "<Figure size 560.75x500 with 1 Axes>"
      ]
     },
     "metadata": {},
     "output_type": "display_data"
    }
   ],
   "source": [
    "sns.displot(data=vasaloppet.loc[vasaloppet.gender != \"<\"], x=\"time_hours\", hue=\"gender\", kind=\"ecdf\")"
   ]
  },
  {
   "cell_type": "code",
   "execution_count": 10,
   "id": "928c2d2a",
   "metadata": {},
   "outputs": [
    {
     "data": {
      "text/html": [
       "<div>\n",
       "<style scoped>\n",
       "    .dataframe tbody tr th:only-of-type {\n",
       "        vertical-align: middle;\n",
       "    }\n",
       "\n",
       "    .dataframe tbody tr th {\n",
       "        vertical-align: top;\n",
       "    }\n",
       "\n",
       "    .dataframe thead th {\n",
       "        text-align: right;\n",
       "    }\n",
       "</style>\n",
       "<table border=\"1\" class=\"dataframe\">\n",
       "  <thead>\n",
       "    <tr style=\"text-align: right;\">\n",
       "      <th></th>\n",
       "      <th>Name</th>\n",
       "      <th>Team</th>\n",
       "      <th>Age class</th>\n",
       "      <th>Place (gender)</th>\n",
       "      <th>Time</th>\n",
       "      <th>hours</th>\n",
       "      <th>minutes</th>\n",
       "      <th>seconds</th>\n",
       "      <th>time_hours</th>\n",
       "      <th>gender</th>\n",
       "      <th>Place (total)</th>\n",
       "    </tr>\n",
       "  </thead>\n",
       "  <tbody>\n",
       "    <tr>\n",
       "      <th>4163</th>\n",
       "      <td>Johnsson, Emma (SWE)</td>\n",
       "      <td>Bravura Sports Club</td>\n",
       "      <td>D21</td>\n",
       "      <td>2082</td>\n",
       "      <td>12:16:56</td>\n",
       "      <td>12</td>\n",
       "      <td>16</td>\n",
       "      <td>56</td>\n",
       "      <td>12.282222</td>\n",
       "      <td>D</td>\n",
       "      <td>12074.0</td>\n",
       "    </tr>\n",
       "    <tr>\n",
       "      <th>12075</th>\n",
       "      <td>Norberg, Lars (SWE)</td>\n",
       "      <td>Matfors SK</td>\n",
       "      <td>H50</td>\n",
       "      <td>9994</td>\n",
       "      <td>12:16:57</td>\n",
       "      <td>12</td>\n",
       "      <td>16</td>\n",
       "      <td>57</td>\n",
       "      <td>12.282500</td>\n",
       "      <td>H</td>\n",
       "      <td>12075.0</td>\n",
       "    </tr>\n",
       "    <tr>\n",
       "      <th>12076</th>\n",
       "      <td>Einarsson, Martin (SWE)</td>\n",
       "      <td>AXA SC</td>\n",
       "      <td>H21</td>\n",
       "      <td>9995</td>\n",
       "      <td>12:17:42</td>\n",
       "      <td>12</td>\n",
       "      <td>17</td>\n",
       "      <td>42</td>\n",
       "      <td>12.295000</td>\n",
       "      <td>H</td>\n",
       "      <td>12076.0</td>\n",
       "    </tr>\n",
       "    <tr>\n",
       "      <th>4165</th>\n",
       "      <td>Tran, Phiphi (SWE)</td>\n",
       "      <td>AXA SC</td>\n",
       "      <td>D21</td>\n",
       "      <td>2083</td>\n",
       "      <td>12:17:43</td>\n",
       "      <td>12</td>\n",
       "      <td>17</td>\n",
       "      <td>43</td>\n",
       "      <td>12.295278</td>\n",
       "      <td>D</td>\n",
       "      <td>12077.0</td>\n",
       "    </tr>\n",
       "    <tr>\n",
       "      <th>12077</th>\n",
       "      <td>Nguyen, Dan (SWE)</td>\n",
       "      <td>AXA SC</td>\n",
       "      <td>H21</td>\n",
       "      <td>9996</td>\n",
       "      <td>12:17:43</td>\n",
       "      <td>12</td>\n",
       "      <td>17</td>\n",
       "      <td>43</td>\n",
       "      <td>12.295278</td>\n",
       "      <td>H</td>\n",
       "      <td>12078.0</td>\n",
       "    </tr>\n",
       "  </tbody>\n",
       "</table>\n",
       "</div>"
      ],
      "text/plain": [
       "                          Name                 Team Age class  Place (gender)  \\\n",
       "4163      Johnsson, Emma (SWE)  Bravura Sports Club       D21            2082   \n",
       "12075      Norberg, Lars (SWE)           Matfors SK       H50            9994   \n",
       "12076  Einarsson, Martin (SWE)               AXA SC       H21            9995   \n",
       "4165        Tran, Phiphi (SWE)               AXA SC       D21            2083   \n",
       "12077        Nguyen, Dan (SWE)               AXA SC       H21            9996   \n",
       "\n",
       "           Time hours minutes seconds  time_hours gender  Place (total)  \n",
       "4163   12:16:56    12      16      56   12.282222      D        12074.0  \n",
       "12075  12:16:57    12      16      57   12.282500      H        12075.0  \n",
       "12076  12:17:42    12      17      42   12.295000      H        12076.0  \n",
       "4165   12:17:43    12      17      43   12.295278      D        12077.0  \n",
       "12077  12:17:43    12      17      43   12.295278      H        12078.0  "
      ]
     },
     "execution_count": 10,
     "metadata": {},
     "output_type": "execute_result"
    }
   ],
   "source": [
    "vasaloppet[\"Place (total)\"] = vasaloppet[\"time_hours\"].rank(method=\"first\")\n",
    "vasaloppet.sort_values(\"time_hours\").tail()"
   ]
  },
  {
   "cell_type": "markdown",
   "id": "ef5370e2-1569-4fb3-a75a-614b089dbea1",
   "metadata": {},
   "source": [
    "# Apply seeding table for 2024\n",
    "\n",
    "https://vasaloppet.se/wp-content/uploads/sites/1/2023/03/seedning_vl_vinterveckan_2023_2023-03-07.pdf"
   ]
  },
  {
   "cell_type": "code",
   "execution_count": 16,
   "id": "f17004d6-2b4e-4c5f-a3ff-e1bd1869c2ed",
   "metadata": {
    "tags": []
   },
   "outputs": [],
   "source": [
    "seedning_2024 = pd.DataFrame({\n",
    "    \"SL\": [0, 1, 2, 3, 4, 5, 6, 7, 8, 9],\n",
    "    \"hours\":   [ 4,  4,  5,  5,  6,  7,  7,  8, 10, 12],\n",
    "    \"minutes\": [ 5, 36,  2, 44, 27,  9, 54, 44,  1, 17],\n",
    "    \"seconds\": [49, 54, 15, 42, 56, 40,  1, 48, 26, 43]\n",
    "}).set_index(\"SL\")"
   ]
  },
  {
   "cell_type": "code",
   "execution_count": 17,
   "id": "4e68c1b2-2125-45bd-9495-45fd48f4b769",
   "metadata": {
    "tags": []
   },
   "outputs": [],
   "source": [
    "seedning_2024[\"time_hours\"] = seedning_2024[\"hours\"] + seedning_2024[\"minutes\"] / 60 + seedning_2024[\"seconds\"] / (60*60)"
   ]
  },
  {
   "cell_type": "code",
   "execution_count": 18,
   "id": "405025b9-14ff-4538-8363-6db79954513f",
   "metadata": {
    "tags": []
   },
   "outputs": [
    {
     "data": {
      "text/html": [
       "<div>\n",
       "<style scoped>\n",
       "    .dataframe tbody tr th:only-of-type {\n",
       "        vertical-align: middle;\n",
       "    }\n",
       "\n",
       "    .dataframe tbody tr th {\n",
       "        vertical-align: top;\n",
       "    }\n",
       "\n",
       "    .dataframe thead th {\n",
       "        text-align: right;\n",
       "    }\n",
       "</style>\n",
       "<table border=\"1\" class=\"dataframe\">\n",
       "  <thead>\n",
       "    <tr style=\"text-align: right;\">\n",
       "      <th></th>\n",
       "      <th>hours</th>\n",
       "      <th>minutes</th>\n",
       "      <th>seconds</th>\n",
       "      <th>time_hours</th>\n",
       "    </tr>\n",
       "    <tr>\n",
       "      <th>SL</th>\n",
       "      <th></th>\n",
       "      <th></th>\n",
       "      <th></th>\n",
       "      <th></th>\n",
       "    </tr>\n",
       "  </thead>\n",
       "  <tbody>\n",
       "    <tr>\n",
       "      <th>0</th>\n",
       "      <td>4</td>\n",
       "      <td>5</td>\n",
       "      <td>49</td>\n",
       "      <td>4.096944</td>\n",
       "    </tr>\n",
       "    <tr>\n",
       "      <th>1</th>\n",
       "      <td>4</td>\n",
       "      <td>36</td>\n",
       "      <td>54</td>\n",
       "      <td>4.615000</td>\n",
       "    </tr>\n",
       "    <tr>\n",
       "      <th>2</th>\n",
       "      <td>5</td>\n",
       "      <td>2</td>\n",
       "      <td>15</td>\n",
       "      <td>5.037500</td>\n",
       "    </tr>\n",
       "    <tr>\n",
       "      <th>3</th>\n",
       "      <td>5</td>\n",
       "      <td>44</td>\n",
       "      <td>42</td>\n",
       "      <td>5.745000</td>\n",
       "    </tr>\n",
       "    <tr>\n",
       "      <th>4</th>\n",
       "      <td>6</td>\n",
       "      <td>27</td>\n",
       "      <td>56</td>\n",
       "      <td>6.465556</td>\n",
       "    </tr>\n",
       "    <tr>\n",
       "      <th>5</th>\n",
       "      <td>7</td>\n",
       "      <td>9</td>\n",
       "      <td>40</td>\n",
       "      <td>7.161111</td>\n",
       "    </tr>\n",
       "    <tr>\n",
       "      <th>6</th>\n",
       "      <td>7</td>\n",
       "      <td>54</td>\n",
       "      <td>1</td>\n",
       "      <td>7.900278</td>\n",
       "    </tr>\n",
       "    <tr>\n",
       "      <th>7</th>\n",
       "      <td>8</td>\n",
       "      <td>44</td>\n",
       "      <td>48</td>\n",
       "      <td>8.746667</td>\n",
       "    </tr>\n",
       "    <tr>\n",
       "      <th>8</th>\n",
       "      <td>10</td>\n",
       "      <td>1</td>\n",
       "      <td>26</td>\n",
       "      <td>10.023889</td>\n",
       "    </tr>\n",
       "    <tr>\n",
       "      <th>9</th>\n",
       "      <td>12</td>\n",
       "      <td>17</td>\n",
       "      <td>43</td>\n",
       "      <td>12.295278</td>\n",
       "    </tr>\n",
       "  </tbody>\n",
       "</table>\n",
       "</div>"
      ],
      "text/plain": [
       "    hours  minutes  seconds  time_hours\n",
       "SL                                     \n",
       "0       4        5       49    4.096944\n",
       "1       4       36       54    4.615000\n",
       "2       5        2       15    5.037500\n",
       "3       5       44       42    5.745000\n",
       "4       6       27       56    6.465556\n",
       "5       7        9       40    7.161111\n",
       "6       7       54        1    7.900278\n",
       "7       8       44       48    8.746667\n",
       "8      10        1       26   10.023889\n",
       "9      12       17       43   12.295278"
      ]
     },
     "execution_count": 18,
     "metadata": {},
     "output_type": "execute_result"
    }
   ],
   "source": [
    "seedning_2024"
   ]
  },
  {
   "cell_type": "code",
   "execution_count": 23,
   "id": "9263e551-dbb5-4fd0-8006-bb026e8df78d",
   "metadata": {
    "tags": []
   },
   "outputs": [],
   "source": [
    "conditions = [\n",
    "    vasaloppet[\"time_hours\"] < seedning_2024[\"time_hours\"].iloc[i] \n",
    "    for i in range(10)\n",
    "]"
   ]
  },
  {
   "cell_type": "code",
   "execution_count": 28,
   "id": "e2be4e3f-63c0-487f-b73f-4c67bc5a62a8",
   "metadata": {
    "tags": []
   },
   "outputs": [],
   "source": [
    "vasaloppet[\"SL2024\"] = np.select(\n",
    "    conditions, [0, 1, 2, 3, 4, 5, 6, 7, 8, 9], default=10)"
   ]
  },
  {
   "cell_type": "code",
   "execution_count": 31,
   "id": "6f3ff705-a253-40dc-9f8e-21ecc691ac42",
   "metadata": {
    "tags": []
   },
   "outputs": [
    {
     "data": {
      "text/plain": [
       "9     2360\n",
       "8     2091\n",
       "7     1497\n",
       "6     1386\n",
       "5     1328\n",
       "4     1310\n",
       "3     1051\n",
       "2      523\n",
       "1      380\n",
       "0      150\n",
       "10       2\n",
       "Name: SL2024, dtype: int64"
      ]
     },
     "execution_count": 31,
     "metadata": {},
     "output_type": "execute_result"
    }
   ],
   "source": [
    "vasaloppet[\"SL2024\"].value_counts()"
   ]
  },
  {
   "cell_type": "code",
   "execution_count": 32,
   "id": "cfeebc41-9853-4735-aa76-3a9ff1c1a6fb",
   "metadata": {
    "tags": []
   },
   "outputs": [
    {
     "data": {
      "text/plain": [
       "12.295277777777777"
      ]
     },
     "execution_count": 32,
     "metadata": {},
     "output_type": "execute_result"
    }
   ],
   "source": [
    "vasaloppet[\"time_hours\"].max()"
   ]
  },
  {
   "cell_type": "code",
   "execution_count": 33,
   "id": "47ff4adc-eb76-49eb-a52b-bb1c91c9396c",
   "metadata": {
    "tags": []
   },
   "outputs": [
    {
     "data": {
      "text/plain": [
       "9     0.195397\n",
       "8     0.173125\n",
       "7     0.123944\n",
       "6     0.114754\n",
       "5     0.109952\n",
       "4     0.108462\n",
       "3     0.087018\n",
       "2     0.043302\n",
       "1     0.031462\n",
       "0     0.012419\n",
       "10    0.000166\n",
       "Name: SL2024, dtype: float64"
      ]
     },
     "execution_count": 33,
     "metadata": {},
     "output_type": "execute_result"
    }
   ],
   "source": [
    "vasaloppet[\"SL2024\"].value_counts() / vasaloppet.shape[0]"
   ]
  }
 ],
 "metadata": {
  "kernelspec": {
   "display_name": "Python 3 (ipykernel)",
   "language": "python",
   "name": "python3"
  },
  "language_info": {
   "codemirror_mode": {
    "name": "ipython",
    "version": 3
   },
   "file_extension": ".py",
   "mimetype": "text/x-python",
   "name": "python",
   "nbconvert_exporter": "python",
   "pygments_lexer": "ipython3",
   "version": "3.10.10"
  }
 },
 "nbformat": 4,
 "nbformat_minor": 5
}
